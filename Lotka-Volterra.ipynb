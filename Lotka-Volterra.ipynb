{
 "cells": [
  {
   "cell_type": "code",
   "execution_count": 55,
   "id": "f7b6e9a3",
   "metadata": {
    "scrolled": true
   },
   "outputs": [
    {
     "name": "stdout",
     "output_type": "stream",
     "text": [
      "[10]\n",
      "[5]\n",
      "[10, 5.0, -32.3125]\n",
      "[5, 74.625, 554.090625]\n"
     ]
    },
    {
     "data": {
      "image/png": "[encoded data removed]",
      "text/plain": [
       "<Figure size 432x288 with 1 Axes>"
      ]
     },
     "metadata": {
      "needs_background": "light"
     },
     "output_type": "display_data"
    }
   ],
   "source": [
    "#Programa para modelar lotka-volterra\n",
    "# Dos especies: x presa , y depredador\n",
    "\n",
    "# dx_dt = alfa*x - beta*x*y\n",
    "# dy_dt = gamma*x*y - delta*y\n",
    "\n",
    "import matplotlib.pyplot as plt\n",
    "\n",
    "x0 = 10\n",
    "y0 = 5\n",
    "\n",
    "alfa = 1 #Taza de nacimiento de la presa\n",
    "beta = 0.1 # Taza que el depredador caza a la presa\n",
    "gamma = 1.5 # Taza de muerte del depredador\n",
    "delta = 0.075 # Taza en el que el depredador crece al cazar\n",
    "\n",
    "def LV_discreto(x,y,alfa,beta,gamma,delta):\n",
    "    x_next = alfa*x - beta*x*y\n",
    "    y_next = gamma*x*y - delta*y\n",
    "    return x_next, y_next\n",
    "    if x_next <= 0 and y_next >= 0:\n",
    "        x_next=0\n",
    "        print(x_next, y_next)\n",
    "        return x_next, y_next\n",
    "    else:\n",
    "        print(x_next, y_next)\n",
    "        return x_next, y_next\n",
    "\n",
    "###############################################################\n",
    "GENERACIONES_x = []\n",
    "GENERACIONES_y = []\n",
    "GENERACIONES_x.append(x0)\n",
    "GENERACIONES_y.append(y0)\n",
    "# Calcular x3, x4, ... , x10\n",
    "print(GENERACIONES_x)\n",
    "print(GENERACIONES_y)\n",
    "n = 0\n",
    "while GENERACIONES_x[n] >= 0 and GENERACIONES_y[n] >= 0:\n",
    "    GENERACIONES_x[n]\n",
    "    GENERACIONES_y[n]\n",
    "    x_sig, y_sig = LV_discreto(GENERACIONES_x[n], GENERACIONES_y[n], alfa,beta,gamma,delta)\n",
    "    GENERACIONES_x.append(x_sig)\n",
    "    GENERACIONES_y.append(y_sig)\n",
    "    n = n + 1\n",
    "    \n",
    "print(GENERACIONES_x)\n",
    "print(GENERACIONES_y)\n",
    "\n",
    "\n",
    "\n",
    "plt.plot(GENERACIONES_x)\n",
    "plt.plot(GENERACIONES_y)\n",
    "plt.xlabel('time')\n",
    "plt.ylabel('GENERACIONES_x and GENERACIONES_y')\n",
    "plt.title('Lotka-Volterra')\n",
    "plt.show()\n",
    "    "
   ]
  },
  {
   "cell_type": "code",
   "execution_count": null,
   "id": "e03328cc",
   "metadata": {},
   "outputs": [],
   "source": [
    "import matplotlib.pyplot as plt\n",
    "\n",
    "x0 = 10\n",
    "y0 = 5\n",
    "\n",
    "alfa = 100 #Taza de nacimiento de la presa\n",
    "beta = 30 # Taza que el depredador caza a la presa\n",
    "gamma =1 # Taza de muerte del depredador\n",
    "delta = 75 # Taza en el que el depredador crece al cazar\n",
    "\n",
    "def LV_discreto(x,y,alfa,beta,gamma,delta):\n",
    "    x_next = alfa*x - beta*x*y\n",
    "    y_next = gamma*x*y - delta*y\n",
    "    return x_next, y_next\n",
    "    if x_next <= 0 and y_next >= 0:\n",
    "        x_next=0\n",
    "        print(x_next, y_next)\n",
    "        return x_next, y_next\n",
    "    else:\n",
    "        print(x_next, y_next)\n",
    "        return x_next, y_next\n",
    "\n",
    "###############################################################\n",
    "GENERACIONES_x = []\n",
    "GENERACIONES_y = []\n",
    "GENERACIONES_x.append(x0)\n",
    "GENERACIONES_y.append(y0)\n",
    "# Calcular x3, x4, ... , x10\n",
    "print(GENERACIONES_x)\n",
    "print(GENERACIONES_y)\n",
    "n = 0\n",
    "while GENERACIONES_x[n] >= 0:\n",
    "    GENERACIONES_x[n]\n",
    "    GENERACIONES_y[n]\n",
    "    x_sig, y_sig = LV_discreto(GENERACIONES_x[n], GENERACIONES_y[n], alfa,beta,gamma,delta)\n",
    "    GENERACIONES_x.append(x_sig)\n",
    "    GENERACIONES_y.append(y_sig)\n",
    "    n = n + 1\n",
    "    \n",
    "print(GENERACIONES_x)\n",
    "print(GENERACIONES_y)\n",
    "\n",
    "\n",
    "\n",
    "plt.plot(GENERACIONES_x)\n",
    "plt.plot(GENERACIONES_y)\n",
    "plt.xlabel('time')\n",
    "plt.ylabel('GENERACIONES_x and GENERACIONES_y')\n",
    "plt.title('Lotka-Volterra')\n",
    "plt.show()"
   ]
  },
  {
   "cell_type": "code",
   "execution_count": 52,
   "id": "b60871f3",
   "metadata": {},
   "outputs": [
    {
     "data": {
      "image/png": "[encoded data removed]",
      "text/plain": [
       "<Figure size 432x288 with 1 Axes>"
      ]
     },
     "metadata": {
      "needs_background": "light"
     },
     "output_type": "display_data"
    }
   ],
   "source": []
  },
  {
   "cell_type": "code",
   "execution_count": 25,
   "id": "4887d07a",
   "metadata": {},
   "outputs": [
    {
     "name": "stdout",
     "output_type": "stream",
     "text": [
      "List before calling remove() function:\n",
      "[4, 6, 18, 4, 9, 11]\n",
      "List after calling remove() function:\n",
      "[6, 18, 4, 9, 11]\n"
     ]
    }
   ],
   "source": [
    "list = [4, 6, 18, 4, 9, 11]\n",
    "\n",
    "print(\"List before calling remove() function:\")\n",
    "print(list)\n",
    "\n",
    "list.remove(4)\n",
    "\n",
    "print(\"List after calling remove() function:\")\n",
    "print(list)"
   ]
  },
  {
   "cell_type": "code",
   "execution_count": 1,
   "id": "e1611339",
   "metadata": {},
   "outputs": [],
   "source": [
    "import numpy as np\n",
    "t = np.linspace(0,50,500)"
   ]
  },
  {
   "cell_type": "code",
   "execution_count": 2,
   "id": "7b9f0d58",
   "metadata": {
    "scrolled": true
   },
   "outputs": [
    {
     "data": {
      "text/plain": [
       "array([ 0.        ,  0.1002004 ,  0.2004008 ,  0.3006012 ,  0.4008016 ,\n",
       "        0.501002  ,  0.6012024 ,  0.70140281,  0.80160321,  0.90180361,\n",
       "        1.00200401,  1.10220441,  1.20240481,  1.30260521,  1.40280561,\n",
       "        1.50300601,  1.60320641,  1.70340681,  1.80360721,  1.90380762,\n",
       "        2.00400802,  2.10420842,  2.20440882,  2.30460922,  2.40480962,\n",
       "        2.50501002,  2.60521042,  2.70541082,  2.80561122,  2.90581162,\n",
       "        3.00601202,  3.10621242,  3.20641283,  3.30661323,  3.40681363,\n",
       "        3.50701403,  3.60721443,  3.70741483,  3.80761523,  3.90781563,\n",
       "        4.00801603,  4.10821643,  4.20841683,  4.30861723,  4.40881764,\n",
       "        4.50901804,  4.60921844,  4.70941884,  4.80961924,  4.90981964,\n",
       "        5.01002004,  5.11022044,  5.21042084,  5.31062124,  5.41082164,\n",
       "        5.51102204,  5.61122244,  5.71142285,  5.81162325,  5.91182365,\n",
       "        6.01202405,  6.11222445,  6.21242485,  6.31262525,  6.41282565,\n",
       "        6.51302605,  6.61322645,  6.71342685,  6.81362725,  6.91382766,\n",
       "        7.01402806,  7.11422846,  7.21442886,  7.31462926,  7.41482966,\n",
       "        7.51503006,  7.61523046,  7.71543086,  7.81563126,  7.91583166,\n",
       "        8.01603206,  8.11623246,  8.21643287,  8.31663327,  8.41683367,\n",
       "        8.51703407,  8.61723447,  8.71743487,  8.81763527,  8.91783567,\n",
       "        9.01803607,  9.11823647,  9.21843687,  9.31863727,  9.41883768,\n",
       "        9.51903808,  9.61923848,  9.71943888,  9.81963928,  9.91983968,\n",
       "       10.02004008, 10.12024048, 10.22044088, 10.32064128, 10.42084168,\n",
       "       10.52104208, 10.62124248, 10.72144289, 10.82164329, 10.92184369,\n",
       "       11.02204409, 11.12224449, 11.22244489, 11.32264529, 11.42284569,\n",
       "       11.52304609, 11.62324649, 11.72344689, 11.82364729, 11.9238477 ,\n",
       "       12.0240481 , 12.1242485 , 12.2244489 , 12.3246493 , 12.4248497 ,\n",
       "       12.5250501 , 12.6252505 , 12.7254509 , 12.8256513 , 12.9258517 ,\n",
       "       13.0260521 , 13.12625251, 13.22645291, 13.32665331, 13.42685371,\n",
       "       13.52705411, 13.62725451, 13.72745491, 13.82765531, 13.92785571,\n",
       "       14.02805611, 14.12825651, 14.22845691, 14.32865731, 14.42885772,\n",
       "       14.52905812, 14.62925852, 14.72945892, 14.82965932, 14.92985972,\n",
       "       15.03006012, 15.13026052, 15.23046092, 15.33066132, 15.43086172,\n",
       "       15.53106212, 15.63126253, 15.73146293, 15.83166333, 15.93186373,\n",
       "       16.03206413, 16.13226453, 16.23246493, 16.33266533, 16.43286573,\n",
       "       16.53306613, 16.63326653, 16.73346693, 16.83366733, 16.93386774,\n",
       "       17.03406814, 17.13426854, 17.23446894, 17.33466934, 17.43486974,\n",
       "       17.53507014, 17.63527054, 17.73547094, 17.83567134, 17.93587174,\n",
       "       18.03607214, 18.13627255, 18.23647295, 18.33667335, 18.43687375,\n",
       "       18.53707415, 18.63727455, 18.73747495, 18.83767535, 18.93787575,\n",
       "       19.03807615, 19.13827655, 19.23847695, 19.33867735, 19.43887776,\n",
       "       19.53907816, 19.63927856, 19.73947896, 19.83967936, 19.93987976,\n",
       "       20.04008016, 20.14028056, 20.24048096, 20.34068136, 20.44088176,\n",
       "       20.54108216, 20.64128257, 20.74148297, 20.84168337, 20.94188377,\n",
       "       21.04208417, 21.14228457, 21.24248497, 21.34268537, 21.44288577,\n",
       "       21.54308617, 21.64328657, 21.74348697, 21.84368737, 21.94388778,\n",
       "       22.04408818, 22.14428858, 22.24448898, 22.34468938, 22.44488978,\n",
       "       22.54509018, 22.64529058, 22.74549098, 22.84569138, 22.94589178,\n",
       "       23.04609218, 23.14629259, 23.24649299, 23.34669339, 23.44689379,\n",
       "       23.54709419, 23.64729459, 23.74749499, 23.84769539, 23.94789579,\n",
       "       24.04809619, 24.14829659, 24.24849699, 24.34869739, 24.4488978 ,\n",
       "       24.5490982 , 24.6492986 , 24.749499  , 24.8496994 , 24.9498998 ,\n",
       "       25.0501002 , 25.1503006 , 25.250501  , 25.3507014 , 25.4509018 ,\n",
       "       25.5511022 , 25.65130261, 25.75150301, 25.85170341, 25.95190381,\n",
       "       26.05210421, 26.15230461, 26.25250501, 26.35270541, 26.45290581,\n",
       "       26.55310621, 26.65330661, 26.75350701, 26.85370741, 26.95390782,\n",
       "       27.05410822, 27.15430862, 27.25450902, 27.35470942, 27.45490982,\n",
       "       27.55511022, 27.65531062, 27.75551102, 27.85571142, 27.95591182,\n",
       "       28.05611222, 28.15631263, 28.25651303, 28.35671343, 28.45691383,\n",
       "       28.55711423, 28.65731463, 28.75751503, 28.85771543, 28.95791583,\n",
       "       29.05811623, 29.15831663, 29.25851703, 29.35871743, 29.45891784,\n",
       "       29.55911824, 29.65931864, 29.75951904, 29.85971944, 29.95991984,\n",
       "       30.06012024, 30.16032064, 30.26052104, 30.36072144, 30.46092184,\n",
       "       30.56112224, 30.66132265, 30.76152305, 30.86172345, 30.96192385,\n",
       "       31.06212425, 31.16232465, 31.26252505, 31.36272545, 31.46292585,\n",
       "       31.56312625, 31.66332665, 31.76352705, 31.86372745, 31.96392786,\n",
       "       32.06412826, 32.16432866, 32.26452906, 32.36472946, 32.46492986,\n",
       "       32.56513026, 32.66533066, 32.76553106, 32.86573146, 32.96593186,\n",
       "       33.06613226, 33.16633267, 33.26653307, 33.36673347, 33.46693387,\n",
       "       33.56713427, 33.66733467, 33.76753507, 33.86773547, 33.96793587,\n",
       "       34.06813627, 34.16833667, 34.26853707, 34.36873747, 34.46893788,\n",
       "       34.56913828, 34.66933868, 34.76953908, 34.86973948, 34.96993988,\n",
       "       35.07014028, 35.17034068, 35.27054108, 35.37074148, 35.47094188,\n",
       "       35.57114228, 35.67134269, 35.77154309, 35.87174349, 35.97194389,\n",
       "       36.07214429, 36.17234469, 36.27254509, 36.37274549, 36.47294589,\n",
       "       36.57314629, 36.67334669, 36.77354709, 36.87374749, 36.9739479 ,\n",
       "       37.0741483 , 37.1743487 , 37.2745491 , 37.3747495 , 37.4749499 ,\n",
       "       37.5751503 , 37.6753507 , 37.7755511 , 37.8757515 , 37.9759519 ,\n",
       "       38.0761523 , 38.17635271, 38.27655311, 38.37675351, 38.47695391,\n",
       "       38.57715431, 38.67735471, 38.77755511, 38.87775551, 38.97795591,\n",
       "       39.07815631, 39.17835671, 39.27855711, 39.37875752, 39.47895792,\n",
       "       39.57915832, 39.67935872, 39.77955912, 39.87975952, 39.97995992,\n",
       "       40.08016032, 40.18036072, 40.28056112, 40.38076152, 40.48096192,\n",
       "       40.58116232, 40.68136273, 40.78156313, 40.88176353, 40.98196393,\n",
       "       41.08216433, 41.18236473, 41.28256513, 41.38276553, 41.48296593,\n",
       "       41.58316633, 41.68336673, 41.78356713, 41.88376754, 41.98396794,\n",
       "       42.08416834, 42.18436874, 42.28456914, 42.38476954, 42.48496994,\n",
       "       42.58517034, 42.68537074, 42.78557114, 42.88577154, 42.98597194,\n",
       "       43.08617234, 43.18637275, 43.28657315, 43.38677355, 43.48697395,\n",
       "       43.58717435, 43.68737475, 43.78757515, 43.88777555, 43.98797595,\n",
       "       44.08817635, 44.18837675, 44.28857715, 44.38877756, 44.48897796,\n",
       "       44.58917836, 44.68937876, 44.78957916, 44.88977956, 44.98997996,\n",
       "       45.09018036, 45.19038076, 45.29058116, 45.39078156, 45.49098196,\n",
       "       45.59118236, 45.69138277, 45.79158317, 45.89178357, 45.99198397,\n",
       "       46.09218437, 46.19238477, 46.29258517, 46.39278557, 46.49298597,\n",
       "       46.59318637, 46.69338677, 46.79358717, 46.89378758, 46.99398798,\n",
       "       47.09418838, 47.19438878, 47.29458918, 47.39478958, 47.49498998,\n",
       "       47.59519038, 47.69539078, 47.79559118, 47.89579158, 47.99599198,\n",
       "       48.09619238, 48.19639279, 48.29659319, 48.39679359, 48.49699399,\n",
       "       48.59719439, 48.69739479, 48.79759519, 48.89779559, 48.99799599,\n",
       "       49.09819639, 49.19839679, 49.29859719, 49.3987976 , 49.498998  ,\n",
       "       49.5991984 , 49.6993988 , 49.7995992 , 49.8997996 , 50.        ])"
      ]
     },
     "execution_count": 2,
     "metadata": {},
     "output_type": "execute_result"
    }
   ],
   "source": [
    "t"
   ]
  },
  {
   "cell_type": "code",
   "execution_count": null,
   "id": "bc3d8c62",
   "metadata": {},
   "outputs": [],
   "source": [
    "from spicy.integrate import odinet"
   ]
  },
  {
   "cell_type": "code",
   "execution_count": 7,
   "id": "7a009b5d",
   "metadata": {
    "scrolled": true
   },
   "outputs": [
    {
     "data": {
      "image/png": "[encoded data removed]",
      "text/plain": [
       "<Figure size 432x288 with 1 Axes>"
      ]
     },
     "metadata": {
      "needs_background": "light"
     },
     "output_type": "display_data"
    }
   ],
   "source": [
    "import numpy as np\n",
    "import matplotlib.pyplot as plt\n",
    "\n",
    "# Definir los parámetros del modelo\n",
    "alpha1 = 0.05  # tasa de crecimiento de la primera especie presa\n",
    "alpha2 = 0.04  # tasa de crecimiento de la segunda especie presa\n",
    "beta = 1     # tasa de mortalidad del depredador\n",
    "delta1 = 0.004 # tasa de depredación de la primera especie presa\n",
    "delta2 = 0.003 # tasa de depredación de la segunda especie presa\n",
    "\n",
    "# Definir las condiciones iniciales\n",
    "x1 = 10    # población inicial de la primera especie presa\n",
    "x2 = 300    # población inicial de la segunda especie presa\n",
    "y = 50      # población inicial del depredador\n",
    "t = 0       # tiempo inicial\n",
    "dt = 0.001   # tamaño del intervalo de tiempo\n",
    "t_max = 100  # tiempo máximo de simulación\n",
    "\n",
    "# Definir las listas para almacenar los valores de las poblaciones a lo largo del tiempo\n",
    "x1_vals = [x1]\n",
    "x2_vals = [x2]\n",
    "y_vals = [y]\n",
    "t_vals = [t]\n",
    "\n",
    "# Simulación del modelo\n",
    "while t < t_max:\n",
    "    # Calcular las tasas de cambio de las poblaciones\n",
    "    dx1_dt = alpha1 * x1 - delta1 * x1 * y\n",
    "    dx2_dt = alpha2 * x2 - delta2 * x2 * y\n",
    "    dy_dt = delta1 * x1 * y + delta2 * x2 * y - beta * y\n",
    "    \n",
    "    # Actualizar las poblaciones usando el método de Euler\n",
    "    x1 = x1 + dx1_dt * dt\n",
    "    x2 = x2 + dx2_dt * dt\n",
    "    y = y + dy_dt * dt\n",
    "    t = t + dt\n",
    "    \n",
    "    # Almacenar los valores de las poblaciones y el tiempo\n",
    "    x1_vals.append(x1)\n",
    "    x2_vals.append(x2)\n",
    "    y_vals.append(y)\n",
    "    t_vals.append(t)\n",
    "\n",
    "# Graficar los resultados\n",
    "plt.plot(t_vals, x1_vals, label='Especie 1')\n",
    "plt.plot(t_vals, x2_vals, label='Especie 2')\n",
    "plt.plot(t_vals, y_vals, label='Depredador')\n",
    "plt.xlabel('Tiempo')\n",
    "plt.ylabel('Población')\n",
    "plt.title('Modelo Lotka-Volterra con dos presas y un depredador')\n",
    "plt.legend()\n",
    "plt.show()"
   ]
  },
  {
   "cell_type": "code",
   "execution_count": null,
   "id": "593c5a8b",
   "metadata": {},
   "outputs": [],
   "source": []
  }
 ],
 "metadata": {
  "kernelspec": {
   "display_name": "Python 3 (ipykernel)",
   "language": "python",
   "name": "python3"
  },
  "language_info": {
   "codemirror_mode": {
    "name": "ipython",
    "version": 3
   },
   "file_extension": ".py",
   "mimetype": "text/x-python",
   "name": "python",
   "nbconvert_exporter": "python",
   "pygments_lexer": "ipython3",
   "version": "3.9.12"
  }
 },
 "nbformat": 4,
 "nbformat_minor": 5
}
